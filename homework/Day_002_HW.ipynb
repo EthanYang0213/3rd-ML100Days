{
 "cells": [
  {
   "cell_type": "markdown",
   "metadata": {},
   "source": [
    "## [作業目標]\n",
    "了解機器學習適合應用的領域與範疇。"
   ]
  },
  {
   "cell_type": "markdown",
   "metadata": {},
   "source": [
    "## [作業重點]\n",
    "透過瞭解機器學習的運作方式，找出非常適用機器學習應用的領域及其原因"
   ]
  },
  {
   "cell_type": "markdown",
   "metadata": {},
   "source": [
    "## 作業\n",
    "請找出一個你認為機器學習可以發光發熱的領域並闡述原因? \n",
    "\n",
    "    我認為機器學習在醫療領域會越來越重要。因為在現在的社會中，醫學與科學日益進步，讓兩者相輔相成將使世界上所有人受益。當醫生診斷患者時，先透過機器先初步檢驗並判斷患者是否罹患何疾病再由醫師進行診斷，不僅可以提高診斷效率、準確性，還能看到醫師可能無法看到或疏漏的部分。\n",
    "    若機器學習應用在醫療領域上時可以增加疾病判讀的準確性，不僅減少醫療資療的損耗，亦可以先預測出病患會有哪些疾病而及早治療或預防。例如，若可以及早判斷出一個患者是否罹癌，並且在癌症初期就可以發現的話，那麼就可以大大地提升治療機率。因此我認為機器學習將會被廣泛地 應用在各個醫療領域中"
   ]
  },
  {
   "cell_type": "code",
   "execution_count": null,
   "metadata": {},
   "outputs": [],
   "source": [
    "   "
   ]
  }
 ],
 "metadata": {
  "kernelspec": {
   "display_name": "Python 3",
   "language": "python",
   "name": "python3"
  },
  "language_info": {
   "codemirror_mode": {
    "name": "ipython",
    "version": 3
   },
   "file_extension": ".py",
   "mimetype": "text/x-python",
   "name": "python",
   "nbconvert_exporter": "python",
   "pygments_lexer": "ipython3",
   "version": "3.7.3"
  }
 },
 "nbformat": 4,
 "nbformat_minor": 2
}
