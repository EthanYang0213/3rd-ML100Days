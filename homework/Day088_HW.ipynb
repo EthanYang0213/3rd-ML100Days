{
 "cells": [
  {
   "cell_type": "markdown",
   "metadata": {},
   "source": [
    "## Work\n",
    "1. 請嘗試寫一個 callback 用來記錄各類別在訓練過程中，對驗證集的 True Positive 與 True Negative"
   ]
  },
  {
   "cell_type": "code",
   "execution_count": 1,
   "metadata": {},
   "outputs": [
    {
     "name": "stderr",
     "output_type": "stream",
     "text": [
      "Using TensorFlow backend.\n"
     ]
    }
   ],
   "source": [
    "import os\n",
    "import keras\n",
    "\n",
    "# Disable GPU\n",
    "# os.environ[\"CUDA_VISIBLE_DEVICES\"] = \"\""
   ]
  },
  {
   "cell_type": "code",
   "execution_count": 2,
   "metadata": {},
   "outputs": [],
   "source": [
    "train, test = keras.datasets.cifar10.load_data()"
   ]
  },
  {
   "cell_type": "code",
   "execution_count": 3,
   "metadata": {},
   "outputs": [],
   "source": [
    "## 資料前處理\n",
    "def preproc_x(x, flatten=True):\n",
    "    x = x / 255.\n",
    "    if flatten:\n",
    "        x = x.reshape((len(x), -1))\n",
    "    return x\n",
    "\n",
    "def preproc_y(y, num_classes=10):\n",
    "    if y.shape[-1] == 1:\n",
    "        y = keras.utils.to_categorical(y, num_classes)\n",
    "    return y    "
   ]
  },
  {
   "cell_type": "code",
   "execution_count": 4,
   "metadata": {},
   "outputs": [
    {
     "name": "stdout",
     "output_type": "stream",
     "text": [
      "(50000, 3072)\n",
      "(50000, 10)\n"
     ]
    }
   ],
   "source": [
    "x_train, y_train = train\n",
    "x_test, y_test = test\n",
    "\n",
    "# Preproc the inputs\n",
    "x_train = preproc_x(x_train)\n",
    "x_test = preproc_x(x_test)\n",
    "\n",
    "# Preprc the outputs\n",
    "y_train = preproc_y(y_train)\n",
    "y_test = preproc_y(y_test)\n",
    "print(x_train.shape)\n",
    "print(y_train.shape)"
   ]
  },
  {
   "cell_type": "code",
   "execution_count": 5,
   "metadata": {},
   "outputs": [],
   "source": [
    "from keras.layers import BatchNormalization\n",
    "\n",
    "\"\"\"\n",
    "建立神經網路，並加入 BN layer\n",
    "\"\"\"\n",
    "def build_mlp(input_shape, output_units=10, num_neurons=[512, 256, 128]):\n",
    "    input_layer = keras.layers.Input(input_shape)\n",
    "    \n",
    "    for i, n_units in enumerate(num_neurons):\n",
    "        if i == 0:\n",
    "            x = keras.layers.Dense(units=n_units, \n",
    "                                   activation=\"relu\", \n",
    "                                   name=\"hidden_layer\"+str(i+1))(input_layer)\n",
    "            x = BatchNormalization()(x)\n",
    "        else:\n",
    "            x = keras.layers.Dense(units=n_units, \n",
    "                                   activation=\"relu\", \n",
    "                                   name=\"hidden_layer\"+str(i+1))(x)\n",
    "            x = BatchNormalization()(x)\n",
    "    \n",
    "    out = keras.layers.Dense(units=output_units, activation=\"softmax\", name=\"output\")(x)\n",
    "    \n",
    "    model = keras.models.Model(inputs=[input_layer], outputs=[out])\n",
    "    return model"
   ]
  },
  {
   "cell_type": "code",
   "execution_count": 6,
   "metadata": {},
   "outputs": [],
   "source": [
    "## 超參數設定\n",
    "LEARNING_RATE = 1e-3\n",
    "EPOCHS = 25\n",
    "BATCH_SIZE = 1024\n",
    "MOMENTUM = 0.95"
   ]
  },
  {
   "cell_type": "code",
   "execution_count": 41,
   "metadata": {},
   "outputs": [],
   "source": [
    "from keras.callbacks import Callback\n",
    "from sklearn.metrics import f1_score\n",
    "from sklearn.metrics import confusion_matrix\n",
    "import numpy as np\n",
    "\n",
    "class confusion(Callback):\n",
    "    def on_train_begin(self, epoch, logs = {}):\n",
    "        logs = logs or {}\n",
    "        record_items = [\"val_auc\", \"val_f1sc\", \"val_fp\", \"val_fn\", \"val_tp\", \"val_tn\"]\n",
    "        for i in record_items:\n",
    "            if i not in self.params['metrics']:\n",
    "                self.params['metrics'].append(i)\n",
    "    \n",
    "    def on_epoch_end(self, epoch, logs = {}, thres=0.5):\n",
    "        logs = logs or {}\n",
    "        y_true = self.validation_data[1].argmax(axis = 1)\n",
    "        y_pred = self.model.predict(self.validation_data[0])\n",
    "        y_pred = (y_pred[:, 1] >= thres) * 1\n",
    "        \n",
    "        Confusion_matrix = confusion_matrix(y_true = y_true, y_pred = y_pred, labels = None)\n",
    "        Confusion_matrix=np.array(Confusion_matrix) \n",
    "        FP = Confusion_matrix.sum(axis=0) - np.diag(Confusion_matrix) \n",
    "        FN = Confusion_matrix.sum(axis=1) - np.diag(Confusion_matrix) \n",
    "        TP = np.diag(Confusion_matrix) \n",
    "        TN = Confusion_matrix.sum() - (FP + FN + TP) \n",
    "        \n",
    "        logs['val_tp'] = TP\n",
    "        logs['val_tn'] = TN\n",
    "        \n",
    "log_confusion = confusion()"
   ]
  },
  {
   "cell_type": "code",
   "execution_count": 42,
   "metadata": {
    "scrolled": true
   },
   "outputs": [
    {
     "name": "stdout",
     "output_type": "stream",
     "text": [
      "Model: \"model_17\"\n",
      "_________________________________________________________________\n",
      "Layer (type)                 Output Shape              Param #   \n",
      "=================================================================\n",
      "input_17 (InputLayer)        (None, 3072)              0         \n",
      "_________________________________________________________________\n",
      "hidden_layer1 (Dense)        (None, 512)               1573376   \n",
      "_________________________________________________________________\n",
      "batch_normalization_49 (Batc (None, 512)               2048      \n",
      "_________________________________________________________________\n",
      "hidden_layer2 (Dense)        (None, 256)               131328    \n",
      "_________________________________________________________________\n",
      "batch_normalization_50 (Batc (None, 256)               1024      \n",
      "_________________________________________________________________\n",
      "hidden_layer3 (Dense)        (None, 128)               32896     \n",
      "_________________________________________________________________\n",
      "batch_normalization_51 (Batc (None, 128)               512       \n",
      "_________________________________________________________________\n",
      "output (Dense)               (None, 10)                1290      \n",
      "=================================================================\n",
      "Total params: 1,742,474\n",
      "Trainable params: 1,740,682\n",
      "Non-trainable params: 1,792\n",
      "_________________________________________________________________\n",
      "Train on 50000 samples, validate on 10000 samples\n",
      "Epoch 1/25\n",
      "50000/50000 [==============================] - 6s 112us/step - loss: 2.2391 - acc: 0.2637 - val_loss: 2.0546 - val_acc: 0.3137\n",
      "Epoch 2/25\n",
      "50000/50000 [==============================] - 3s 55us/step - loss: 1.7611 - acc: 0.3874 - val_loss: 1.8086 - val_acc: 0.3850\n",
      "Epoch 3/25\n",
      "50000/50000 [==============================] - 3s 59us/step - loss: 1.6306 - acc: 0.4302 - val_loss: 1.7035 - val_acc: 0.4054\n",
      "Epoch 4/25\n",
      "50000/50000 [==============================] - 3s 61us/step - loss: 1.5540 - acc: 0.4553 - val_loss: 1.6367 - val_acc: 0.4236\n",
      "Epoch 5/25\n",
      "50000/50000 [==============================] - 3s 58us/step - loss: 1.4965 - acc: 0.4786 - val_loss: 1.6057 - val_acc: 0.4407\n",
      "Epoch 6/25\n",
      "50000/50000 [==============================] - 3s 57us/step - loss: 1.4474 - acc: 0.4944 - val_loss: 1.5810 - val_acc: 0.4424\n",
      "Epoch 7/25\n",
      "50000/50000 [==============================] - 3s 57us/step - loss: 1.4067 - acc: 0.5104 - val_loss: 1.5523 - val_acc: 0.4531\n",
      "Epoch 8/25\n",
      "50000/50000 [==============================] - 3s 57us/step - loss: 1.3684 - acc: 0.5221 - val_loss: 1.5443 - val_acc: 0.4596\n",
      "Epoch 9/25\n",
      "50000/50000 [==============================] - 3s 57us/step - loss: 1.3364 - acc: 0.5347 - val_loss: 1.5206 - val_acc: 0.4685\n",
      "Epoch 10/25\n",
      "50000/50000 [==============================] - 3s 57us/step - loss: 1.3045 - acc: 0.5459 - val_loss: 1.5073 - val_acc: 0.4706\n",
      "Epoch 11/25\n",
      "50000/50000 [==============================] - 3s 58us/step - loss: 1.2761 - acc: 0.5577 - val_loss: 1.5094 - val_acc: 0.4685\n",
      "Epoch 12/25\n",
      "50000/50000 [==============================] - 3s 56us/step - loss: 1.2491 - acc: 0.5677 - val_loss: 1.4924 - val_acc: 0.4741\n",
      "Epoch 13/25\n",
      "50000/50000 [==============================] - 3s 56us/step - loss: 1.2229 - acc: 0.5773 - val_loss: 1.5027 - val_acc: 0.4703\n",
      "Epoch 14/25\n",
      "50000/50000 [==============================] - 3s 56us/step - loss: 1.1977 - acc: 0.5848 - val_loss: 1.4816 - val_acc: 0.4789\n",
      "Epoch 15/25\n",
      "50000/50000 [==============================] - 3s 57us/step - loss: 1.1738 - acc: 0.5941 - val_loss: 1.5017 - val_acc: 0.4796\n",
      "Epoch 16/25\n",
      "50000/50000 [==============================] - 3s 56us/step - loss: 1.1496 - acc: 0.6053 - val_loss: 1.4680 - val_acc: 0.4845\n",
      "Epoch 17/25\n",
      "50000/50000 [==============================] - 3s 57us/step - loss: 1.1240 - acc: 0.6166 - val_loss: 1.4905 - val_acc: 0.4837\n",
      "Epoch 18/25\n",
      "50000/50000 [==============================] - 3s 56us/step - loss: 1.1045 - acc: 0.6213 - val_loss: 1.4830 - val_acc: 0.4825\n",
      "Epoch 19/25\n",
      "50000/50000 [==============================] - 3s 58us/step - loss: 1.0805 - acc: 0.6306 - val_loss: 1.4689 - val_acc: 0.4863\n",
      "Epoch 20/25\n",
      "50000/50000 [==============================] - 3s 57us/step - loss: 1.0574 - acc: 0.6396 - val_loss: 1.4745 - val_acc: 0.4831\n",
      "Epoch 21/25\n",
      "50000/50000 [==============================] - 3s 57us/step - loss: 1.0365 - acc: 0.6479 - val_loss: 1.4604 - val_acc: 0.4883\n",
      "Epoch 22/25\n",
      "50000/50000 [==============================] - 3s 57us/step - loss: 1.0135 - acc: 0.6567 - val_loss: 1.4690 - val_acc: 0.4874\n",
      "Epoch 23/25\n",
      "50000/50000 [==============================] - 3s 57us/step - loss: 0.9929 - acc: 0.6652 - val_loss: 1.4814 - val_acc: 0.4853\n",
      "Epoch 24/25\n",
      "50000/50000 [==============================] - 3s 57us/step - loss: 0.9702 - acc: 0.6733 - val_loss: 1.4800 - val_acc: 0.4852\n",
      "Epoch 25/25\n",
      "50000/50000 [==============================] - 3s 57us/step - loss: 0.9511 - acc: 0.6811 - val_loss: 1.4812 - val_acc: 0.4879\n"
     ]
    }
   ],
   "source": [
    "model = build_mlp(input_shape=x_train.shape[1:])\n",
    "model.summary()\n",
    "optimizer = keras.optimizers.SGD(lr=LEARNING_RATE, nesterov=True, momentum=MOMENTUM)\n",
    "model.compile(loss=\"categorical_crossentropy\", metrics=[\"accuracy\"], optimizer=optimizer)\n",
    "\n",
    "\"\"\"Code Here\n",
    "將 callbacks 放入模型訓練流程中\n",
    "\"\"\"\n",
    "model.fit(x_train, y_train, \n",
    "          epochs=EPOCHS, \n",
    "          batch_size=BATCH_SIZE, \n",
    "          validation_data=(x_test, y_test), \n",
    "          shuffle=True,\n",
    "          callbacks=[log_confusion]\n",
    "         )\n",
    "\n",
    "# Collect results\n",
    "train_loss = model.history.history[\"loss\"]\n",
    "valid_loss = model.history.history[\"val_loss\"]\n",
    "train_acc = model.history.history[\"acc\"]\n",
    "valid_acc = model.history.history[\"val_acc\"]\n",
    "\n",
    "\"\"\"Code Here\n",
    "將 tp/tn 從訓練完的模型中取出\n",
    "\"\"\"\n",
    "valid_tp = model.history.history['val_tp']\n",
    "valid_tn = model.history.history['val_tn']"
   ]
  },
  {
   "cell_type": "code",
   "execution_count": 43,
   "metadata": {},
   "outputs": [
    {
     "data": {
      "image/png": "[encoded data removed]",
      "text/plain": [
       "<Figure size 432x288 with 1 Axes>"
      ]
     },
     "metadata": {
      "needs_background": "light"
     },
     "output_type": "display_data"
    },
    {
     "data": {
      "image/png": "[encoded data removed]",
      "text/plain": [
       "<Figure size 432x288 with 1 Axes>"
      ]
     },
     "metadata": {
      "needs_background": "light"
     },
     "output_type": "display_data"
    },
    {
     "data": {
      "image/png": "[encoded data removed]",
      "text/plain": [
       "<Figure size 432x288 with 1 Axes>"
      ]
     },
     "metadata": {
      "needs_background": "light"
     },
     "output_type": "display_data"
    }
   ],
   "source": [
    "import matplotlib.pyplot as plt\n",
    "%matplotlib inline\n",
    "\n",
    "plt.plot(range(len(train_loss)), train_loss, label=\"train loss\")\n",
    "plt.plot(range(len(valid_loss)), valid_loss, label=\"valid loss\")\n",
    "plt.legend()\n",
    "plt.title(\"Loss\")\n",
    "plt.show()\n",
    "\n",
    "plt.plot(range(len(train_acc)), train_acc, label=\"train accuracy\")\n",
    "plt.plot(range(len(valid_acc)), valid_acc, label=\"valid accuracy\")\n",
    "plt.legend()\n",
    "plt.title(\"Accuracy\")\n",
    "plt.show()\n",
    "\n",
    "plt.plot(range(len(valid_tp)), valid_tp, label=\"valid tp\", color=\"navy\")\n",
    "plt.plot(range(len(valid_tn)), valid_tn, label=\"valid tn\", color=\"red\")\n",
    "plt.legend()\n",
    "plt.title(\"True positives and True Negatives\")\n",
    "plt.show()\n"
   ]
  }
 ],
 "metadata": {
  "kernelspec": {
   "display_name": "Python 3",
   "language": "python",
   "name": "python3"
  },
  "language_info": {
   "codemirror_mode": {
    "name": "ipython",
    "version": 3
   },
   "file_extension": ".py",
   "mimetype": "text/x-python",
   "name": "python",
   "nbconvert_exporter": "python",
   "pygments_lexer": "ipython3",
   "version": "3.7.3"
  }
 },
 "nbformat": 4,
 "nbformat_minor": 2
}
