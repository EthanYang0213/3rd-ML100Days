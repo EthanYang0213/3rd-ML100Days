{
 "cells": [
  {
   "cell_type": "markdown",
   "metadata": {},
   "source": [
    "## [作業重點]\n",
    "了解隨機森林改善了決策樹的什麼缺點？是用什麼方法改進的？"
   ]
  },
  {
   "cell_type": "markdown",
   "metadata": {},
   "source": [
    "## 作業\n",
    "\n",
    "閱讀以下兩篇文獻，了解隨機森林原理，並試著回答後續的思考問題\n",
    "- [隨機森林 (random forest) - 中文](http://hhtucode.blogspot.tw/2013/06/ml-random-forest.html)\n",
    "- [how random forest works - 英文](https://medium.com/@Synced/how-random-forest-algorithm-works-in-machine-learning-3c0fe15b6674)"
   ]
  },
  {
   "cell_type": "markdown",
   "metadata": {},
   "source": [
    "\n",
    "1. 隨機森林中的每一棵樹，是希望能夠\n",
    "\n",
    "    - 沒有任何限制，讓樹可以持續生長 (讓樹生成很深，讓模型變得複雜)\n",
    "    \n",
    "    - 不要過度生長，避免 Overfitting\n",
    "    \n",
    "    \n",
    "2. 假設總共有 N 筆資料，每棵樹用取後放回的方式抽了總共 N 筆資料生成，請問這棵樹大約使用了多少 % 不重複的原資料生成?\n",
    "hint: 0.632 bootstrap\n",
    "    ==>Bootstraps\n",
    "\n",
    "  根據PAC由弱得到強的思想，統計學大牛Bradley Efron在1979年提出了Bootstraps演算法，這個名字來自於成語“pull up by your own bootstraps”，意思是依靠自己的資源，稱為自助法。它的思想就是當樣本數量不大，分佈情況未知時，可以從原始樣本中隨機抽取的多個樣本情況（弱學習）來估計原樣本真實的分佈情況。它是非引數統計中一種重要的估計統計量方差進而進行區間估計的統計方法。其基本步驟如下：\n",
    "　　①從原始資料集中，有放回地抽樣一定數量的樣本\n",
    "　　②根據抽出的樣本計算給定的統計量T\n",
    "　　③重複上述N次（一般大於1000），得到N個統計量T \n",
    "　　④計算上述N個統計量T的樣本方差，得到統計量的方差\n",
    "\n",
    "  這裡舉例說明其中一種最常用的方法：.632自助法。\n",
    "\n",
    "  假設給定的資料集包含d個樣本。該資料集有放回地抽樣d次，產生d個樣本的訓練集。（原資料樣本中的某些樣本很可能在該樣本集中出現多次）沒有進入該訓練集的樣本最終形成檢驗集（測試集）。顯然每個樣本被選中的概率是1/d，因此未被選中的概率就是(1-1/d)，這樣一個樣本在訓練集中沒出現的概率就是d次都未被選中的概率，即(1-1/d)d。當d趨於無窮大時，這一概率就將趨近於e-1=0.368，所以留在訓練集中的樣本大概就佔原來資料集的63.2%。\n"
   ]
  },
  {
   "cell_type": "code",
   "execution_count": null,
   "metadata": {},
   "outputs": [],
   "source": []
  }
 ],
 "metadata": {
  "kernelspec": {
   "display_name": "Python 3",
   "language": "python",
   "name": "python3"
  },
  "language_info": {
   "codemirror_mode": {
    "name": "ipython",
    "version": 3
   },
   "file_extension": ".py",
   "mimetype": "text/x-python",
   "name": "python",
   "nbconvert_exporter": "python",
   "pygments_lexer": "ipython3",
   "version": "3.7.3"
  }
 },
 "nbformat": 4,
 "nbformat_minor": 2
}
