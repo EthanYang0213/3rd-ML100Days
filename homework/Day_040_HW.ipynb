{
 "cells": [
  {
   "cell_type": "markdown",
   "metadata": {},
   "source": [
    "## [作業重點]\n",
    "使用 Sklearn 中的 Lasso, Ridge 模型，來訓練各種資料集，務必了解送進去模型訓練的**資料型態**為何，也請了解模型中各項參數的意義。\n",
    "\n",
    "機器學習的模型非常多種，但要訓練的資料多半有固定的格式，確保你了解訓練資料的格式為何，這樣在應用新模型時，就能夠最快的上手開始訓練！"
   ]
  },
  {
   "cell_type": "markdown",
   "metadata": {},
   "source": [
    "## 練習時間\n",
    "試著使用 sklearn datasets 的其他資料集 (boston, ...)，來訓練自己的線性迴歸模型，並加上適當的正則化來觀察訓練情形。"
   ]
  },
  {
   "cell_type": "code",
   "execution_count": 1,
   "metadata": {},
   "outputs": [],
   "source": [
    "import numpy as np\n",
    "from sklearn import datasets, linear_model\n",
    "from sklearn.model_selection import train_test_split\n",
    "from sklearn.metrics import mean_squared_error, r2_score"
   ]
  },
  {
   "cell_type": "code",
   "execution_count": 26,
   "metadata": {},
   "outputs": [
    {
     "name": "stdout",
     "output_type": "stream",
     "text": [
      "[-6.75794747e-02  3.28680151e-02 -0.00000000e+00  0.00000000e+00\n",
      " -0.00000000e+00  3.47277601e+00 -3.44590201e-03 -8.18179301e-01\n",
      "  2.60769058e-01 -1.29398871e-02 -7.43401326e-01  1.25927681e-02\n",
      " -6.02543440e-01]\n",
      "Mean squared error: 26.98\n",
      "R squared: 0.75 \n"
     ]
    }
   ],
   "source": [
    "# Lasso-alpha=0.4\n",
    "boston = datasets.load_boston()\n",
    "x_train, x_test, y_train, y_test = train_test_split(boston.data, boston.target, test_size = 0.2)\n",
    "lasso = linear_model.Lasso(alpha = 0.4)\n",
    "lasso.fit(x_train, y_train)\n",
    "y_pred = lasso.predict(x_test)\n",
    "print(lasso.coef_)\n",
    "print(\"Mean squared error: %.2f\" % mean_squared_error(y_test, y_pred))\n",
    "print(\"R squared: %.2f \" % r2_score(y_test, y_pred))"
   ]
  },
  {
   "cell_type": "code",
   "execution_count": 35,
   "metadata": {},
   "outputs": [
    {
     "name": "stdout",
     "output_type": "stream",
     "text": [
      "[-0.1210218   0.04753252 -0.02970284  3.00270607 -6.16022897  3.74597973\n",
      " -0.0127513  -1.46357681  0.26579407 -0.01090491 -0.82034225  0.01165223\n",
      " -0.5729364 ]\n",
      "Mean squared error: 17.26 \n",
      "R squared: 0.71 \n"
     ]
    }
   ],
   "source": [
    "# Ridge-alpha=2\n",
    "boston = datasets.load_boston()\n",
    "x_train, x_test, y_train, y_test  = train_test_split(boston.data, boston.target, test_size = 0.2)\n",
    "ridge = linear_model.Ridge(alpha = 2)\n",
    "ridge.fit(x_train, y_train)\n",
    "y_pred = ridge.predict(x_test)\n",
    "print(ridge.coef_)\n",
    "print(\"Mean squared error: %.2f \" % mean_squared_error(y_test, y_pred))\n",
    "print(\"R squared: %.2f \" % r2_score(y_test, y_pred))"
   ]
  }
 ],
 "metadata": {
  "kernelspec": {
   "display_name": "Python 3",
   "language": "python",
   "name": "python3"
  },
  "language_info": {
   "codemirror_mode": {
    "name": "ipython",
    "version": 3
   },
   "file_extension": ".py",
   "mimetype": "text/x-python",
   "name": "python",
   "nbconvert_exporter": "python",
   "pygments_lexer": "ipython3",
   "version": "3.7.3"
  }
 },
 "nbformat": 4,
 "nbformat_minor": 2
}
