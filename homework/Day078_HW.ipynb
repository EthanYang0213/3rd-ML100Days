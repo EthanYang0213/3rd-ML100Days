{
 "cells": [
  {
   "cell_type": "markdown",
   "metadata": {},
   "source": [
    "## Work\n",
    "1. 請嘗試將 preproc_x 替換成以每筆資料的 min/max 進行標準化至 -1 ~ 1 間，再進行訓練\n",
    "2. 請嘗試將 mlp 疊更深 (e.g 5~10 層)，進行訓練後觀察 learning curve 的走勢\n",
    "3. (optional) 請改用 GPU 進行訓練 (如果你有 GPU 的話)，比較使用 CPU 與 GPU 的訓練速度"
   ]
  },
  {
   "cell_type": "code",
   "execution_count": 1,
   "metadata": {},
   "outputs": [],
   "source": [
    "## \n",
    "\"\"\"\n",
    "Your code here (optional)\n",
    "確認硬體資源\n",
    "\"\"\"\n"
   ]
  },
  {
   "cell_type": "code",
   "execution_count": 1,
   "metadata": {},
   "outputs": [
    {
     "name": "stderr",
     "output_type": "stream",
     "text": [
      "Using TensorFlow backend.\n"
     ]
    }
   ],
   "source": [
    "import os\n",
    "import keras\n",
    "\n",
    "# 請嘗試設定 GPU：os.environ\n",
    "# os.environ[\"CUDA_VISIBLE_DEVICES\"] = \"\""
   ]
  },
  {
   "cell_type": "code",
   "execution_count": 2,
   "metadata": {},
   "outputs": [],
   "source": [
    "train, test = keras.datasets.cifar10.load_data()"
   ]
  },
  {
   "cell_type": "code",
   "execution_count": 3,
   "metadata": {},
   "outputs": [],
   "source": [
    "## 資料前處理\n",
    "\n",
    "def preproc_x(x, Flatten = True):\n",
    "    x = (x - x.min()) / (x.max() - x.min())\n",
    "    if Flatten:\n",
    "        x = x.reshape((len(x), -1))\n",
    "    return x\n",
    "\n",
    "def preproc_y(y, num_classes = 10):\n",
    "    if y.shape[-1] == 1:\n",
    "        y = keras.utils.to_categorical(y, num_classes)\n",
    "    return y"
   ]
  },
  {
   "cell_type": "code",
   "execution_count": 4,
   "metadata": {},
   "outputs": [],
   "source": [
    "x_train, y_train = train\n",
    "x_test, y_test = test\n",
    "\n",
    "# Preproc the inputs\n",
    "x_train = preproc_x(x_train)\n",
    "x_test = preproc_x(x_test)\n",
    "\n",
    "# Preprc the outputs\n",
    "y_train = preproc_y(y_train)\n",
    "y_test = preproc_y(y_test)\n",
    "\n"
   ]
  },
  {
   "cell_type": "code",
   "execution_count": 11,
   "metadata": {},
   "outputs": [
    {
     "name": "stdout",
     "output_type": "stream",
     "text": [
      "Model: \"model_2\"\n",
      "_________________________________________________________________\n",
      "Layer (type)                 Output Shape              Param #   \n",
      "=================================================================\n",
      "input_2 (InputLayer)         (None, 3072)              0         \n",
      "_________________________________________________________________\n",
      "hidden_layer1 (Dense)        (None, 512)               1573376   \n",
      "_________________________________________________________________\n",
      "hidden_layer2 (Dense)        (None, 256)               131328    \n",
      "_________________________________________________________________\n",
      "hidden_layer3 (Dense)        (None, 256)               65792     \n",
      "_________________________________________________________________\n",
      "hidden_layer4 (Dense)        (None, 256)               65792     \n",
      "_________________________________________________________________\n",
      "hidden_layer5 (Dense)        (None, 128)               32896     \n",
      "_________________________________________________________________\n",
      "hidden_layer6 (Dense)        (None, 128)               16512     \n",
      "_________________________________________________________________\n",
      "hidden_layer7 (Dense)        (None, 128)               16512     \n",
      "_________________________________________________________________\n",
      "hidden_layer8 (Dense)        (None, 64)                8256      \n",
      "_________________________________________________________________\n",
      "hidden_layer9 (Dense)        (None, 64)                4160      \n",
      "_________________________________________________________________\n",
      "output (Dense)               (None, 10)                650       \n",
      "=================================================================\n",
      "Total params: 1,915,274\n",
      "Trainable params: 1,915,274\n",
      "Non-trainable params: 0\n",
      "_________________________________________________________________\n"
     ]
    }
   ],
   "source": [
    "\"\"\"Code Here\n",
    "建立你的神經網路\n",
    "\"\"\"\n",
    "def build_mlp(input_shape, output_units=10, num_neurons=[512, 256,256, 256, 128, 128, 128, 64, 64]):\n",
    "    input_layer = keras.layers.Input(input_shape)\n",
    "    \n",
    "    for i, n_units in enumerate(num_neurons):\n",
    "        if i == 0:\n",
    "            x = keras.layers.Dense(units=n_units, activation=\"relu\", name=\"hidden_layer\"+str(i+1))(input_layer)\n",
    "        else:\n",
    "            x = keras.layers.Dense(units=n_units, activation=\"relu\", name=\"hidden_layer\"+str(i+1))(x)\n",
    "    \n",
    "    out = keras.layers.Dense(units=output_units, activation=\"softmax\", name=\"output\")(x)\n",
    "    \n",
    "    model = keras.models.Model(inputs=[input_layer], outputs=[out])\n",
    "    return model \n",
    "\n",
    "model = build_mlp(input_shape=x_train.shape[1:])\n",
    "model.summary()"
   ]
  },
  {
   "cell_type": "code",
   "execution_count": 13,
   "metadata": {},
   "outputs": [],
   "source": [
    "## 超參數設定\n",
    "LEARNING_RATE = 0.001\n",
    "EPOCHS = 100\n",
    "BATCH_SIZE = 256"
   ]
  },
  {
   "cell_type": "code",
   "execution_count": 14,
   "metadata": {},
   "outputs": [],
   "source": [
    "optimizer = keras.optimizers.Adam(lr=LEARNING_RATE)\n",
    "model.compile(loss=\"categorical_crossentropy\", metrics=[\"accuracy\"], optimizer=optimizer)"
   ]
  },
  {
   "cell_type": "code",
   "execution_count": 15,
   "metadata": {},
   "outputs": [
    {
     "name": "stdout",
     "output_type": "stream",
     "text": [
      "Train on 50000 samples, validate on 10000 samples\n",
      "Epoch 1/100\n",
      "50000/50000 [==============================] - 6s 122us/step - loss: 1.9994 - acc: 0.2535 - val_loss: 1.8667 - val_acc: 0.3080\n",
      "Epoch 2/100\n",
      "50000/50000 [==============================] - 5s 110us/step - loss: 1.7827 - acc: 0.3536 - val_loss: 1.7619 - val_acc: 0.3563\n",
      "Epoch 3/100\n",
      "50000/50000 [==============================] - 5s 107us/step - loss: 1.6884 - acc: 0.3881 - val_loss: 1.6626 - val_acc: 0.3932\n",
      "Epoch 4/100\n",
      "50000/50000 [==============================] - 5s 105us/step - loss: 1.6197 - acc: 0.4178 - val_loss: 1.5992 - val_acc: 0.4268\n",
      "Epoch 5/100\n",
      "50000/50000 [==============================] - 5s 104us/step - loss: 1.5719 - acc: 0.4343 - val_loss: 1.5529 - val_acc: 0.4472\n",
      "Epoch 6/100\n",
      "50000/50000 [==============================] - 5s 104us/step - loss: 1.5225 - acc: 0.4535 - val_loss: 1.5994 - val_acc: 0.4347\n",
      "Epoch 7/100\n",
      "50000/50000 [==============================] - 5s 104us/step - loss: 1.4945 - acc: 0.4629 - val_loss: 1.5295 - val_acc: 0.4460\n",
      "Epoch 8/100\n",
      "50000/50000 [==============================] - 5s 104us/step - loss: 1.4590 - acc: 0.4782 - val_loss: 1.5037 - val_acc: 0.4676\n",
      "Epoch 9/100\n",
      "50000/50000 [==============================] - 5s 104us/step - loss: 1.4199 - acc: 0.4874 - val_loss: 1.4570 - val_acc: 0.4821\n",
      "Epoch 10/100\n",
      "50000/50000 [==============================] - 5s 104us/step - loss: 1.3990 - acc: 0.4991 - val_loss: 1.4795 - val_acc: 0.4696\n",
      "Epoch 11/100\n",
      "50000/50000 [==============================] - 5s 104us/step - loss: 1.3786 - acc: 0.5077 - val_loss: 1.4599 - val_acc: 0.4860\n",
      "Epoch 12/100\n",
      "50000/50000 [==============================] - 5s 104us/step - loss: 1.3510 - acc: 0.5132 - val_loss: 1.4501 - val_acc: 0.4914\n",
      "Epoch 13/100\n",
      "50000/50000 [==============================] - 5s 104us/step - loss: 1.3250 - acc: 0.5251 - val_loss: 1.3969 - val_acc: 0.5067\n",
      "Epoch 14/100\n",
      "50000/50000 [==============================] - 5s 105us/step - loss: 1.2972 - acc: 0.5344 - val_loss: 1.4353 - val_acc: 0.4912\n",
      "Epoch 15/100\n",
      "50000/50000 [==============================] - 5s 104us/step - loss: 1.2663 - acc: 0.5468 - val_loss: 1.4324 - val_acc: 0.4946\n",
      "Epoch 16/100\n",
      "50000/50000 [==============================] - 5s 104us/step - loss: 1.2494 - acc: 0.5525 - val_loss: 1.4060 - val_acc: 0.5043\n",
      "Epoch 17/100\n",
      "50000/50000 [==============================] - 5s 105us/step - loss: 1.2236 - acc: 0.5607 - val_loss: 1.4597 - val_acc: 0.4918\n",
      "Epoch 18/100\n",
      "50000/50000 [==============================] - 5s 104us/step - loss: 1.2042 - acc: 0.5675 - val_loss: 1.4296 - val_acc: 0.4933\n",
      "Epoch 19/100\n",
      "50000/50000 [==============================] - 5s 104us/step - loss: 1.1706 - acc: 0.5787 - val_loss: 1.4124 - val_acc: 0.5115\n",
      "Epoch 20/100\n",
      "50000/50000 [==============================] - 5s 105us/step - loss: 1.1531 - acc: 0.5864 - val_loss: 1.4438 - val_acc: 0.4998\n",
      "Epoch 21/100\n",
      "50000/50000 [==============================] - 5s 104us/step - loss: 1.1353 - acc: 0.5929 - val_loss: 1.4256 - val_acc: 0.5079\n",
      "Epoch 22/100\n",
      "50000/50000 [==============================] - 5s 104us/step - loss: 1.1020 - acc: 0.6042 - val_loss: 1.4908 - val_acc: 0.4973\n",
      "Epoch 23/100\n",
      "50000/50000 [==============================] - 5s 105us/step - loss: 1.0827 - acc: 0.6101 - val_loss: 1.4966 - val_acc: 0.5066\n",
      "Epoch 24/100\n",
      "50000/50000 [==============================] - 5s 104us/step - loss: 1.0562 - acc: 0.6212 - val_loss: 1.4416 - val_acc: 0.5087\n",
      "Epoch 25/100\n",
      "50000/50000 [==============================] - 5s 104us/step - loss: 1.0256 - acc: 0.6307 - val_loss: 1.4441 - val_acc: 0.5209\n",
      "Epoch 26/100\n",
      "50000/50000 [==============================] - 5s 105us/step - loss: 1.0099 - acc: 0.6338 - val_loss: 1.4582 - val_acc: 0.5144\n",
      "Epoch 27/100\n",
      "50000/50000 [==============================] - 5s 105us/step - loss: 0.9903 - acc: 0.6417 - val_loss: 1.4695 - val_acc: 0.5216\n",
      "Epoch 28/100\n",
      "50000/50000 [==============================] - 5s 104us/step - loss: 0.9759 - acc: 0.6486 - val_loss: 1.4721 - val_acc: 0.5083\n",
      "Epoch 29/100\n",
      "50000/50000 [==============================] - 5s 104us/step - loss: 0.9459 - acc: 0.6587 - val_loss: 1.4783 - val_acc: 0.5164\n",
      "Epoch 30/100\n",
      "50000/50000 [==============================] - 5s 104us/step - loss: 0.9149 - acc: 0.6694 - val_loss: 1.5562 - val_acc: 0.5128\n",
      "Epoch 31/100\n",
      "50000/50000 [==============================] - 5s 105us/step - loss: 0.8888 - acc: 0.6783 - val_loss: 1.5204 - val_acc: 0.5167\n",
      "Epoch 32/100\n",
      "50000/50000 [==============================] - 5s 107us/step - loss: 0.8778 - acc: 0.6832 - val_loss: 1.5640 - val_acc: 0.5226\n",
      "Epoch 33/100\n",
      "50000/50000 [==============================] - 5s 105us/step - loss: 0.8396 - acc: 0.6952 - val_loss: 1.6101 - val_acc: 0.5160\n",
      "Epoch 34/100\n",
      "50000/50000 [==============================] - 5s 104us/step - loss: 0.8322 - acc: 0.6982 - val_loss: 1.5909 - val_acc: 0.5080\n",
      "Epoch 35/100\n",
      "50000/50000 [==============================] - 5s 104us/step - loss: 0.8122 - acc: 0.7039 - val_loss: 1.6919 - val_acc: 0.5080\n",
      "Epoch 36/100\n",
      "50000/50000 [==============================] - 5s 105us/step - loss: 0.7775 - acc: 0.7192 - val_loss: 1.6700 - val_acc: 0.5147\n",
      "Epoch 37/100\n",
      "50000/50000 [==============================] - 5s 104us/step - loss: 0.7585 - acc: 0.7262 - val_loss: 1.7221 - val_acc: 0.5101\n",
      "Epoch 38/100\n",
      "50000/50000 [==============================] - 5s 104us/step - loss: 0.7536 - acc: 0.7279 - val_loss: 1.7173 - val_acc: 0.5141\n",
      "Epoch 39/100\n",
      "50000/50000 [==============================] - 5s 104us/step - loss: 0.7260 - acc: 0.7358 - val_loss: 1.7882 - val_acc: 0.5019\n",
      "Epoch 40/100\n",
      "50000/50000 [==============================] - 5s 104us/step - loss: 0.7140 - acc: 0.7405 - val_loss: 1.7923 - val_acc: 0.5131\n",
      "Epoch 41/100\n",
      "50000/50000 [==============================] - 5s 104us/step - loss: 0.6804 - acc: 0.7513 - val_loss: 1.7944 - val_acc: 0.5050\n",
      "Epoch 42/100\n",
      "50000/50000 [==============================] - 5s 104us/step - loss: 0.6620 - acc: 0.7611 - val_loss: 1.9123 - val_acc: 0.4988\n",
      "Epoch 43/100\n",
      "50000/50000 [==============================] - 5s 104us/step - loss: 0.6586 - acc: 0.7628 - val_loss: 1.9060 - val_acc: 0.5030\n",
      "Epoch 44/100\n",
      "50000/50000 [==============================] - 5s 104us/step - loss: 0.6405 - acc: 0.7673 - val_loss: 1.9420 - val_acc: 0.5070\n",
      "Epoch 45/100\n",
      "50000/50000 [==============================] - 5s 105us/step - loss: 0.6259 - acc: 0.7744 - val_loss: 1.9690 - val_acc: 0.5107\n",
      "Epoch 46/100\n",
      "50000/50000 [==============================] - 5s 104us/step - loss: 0.6036 - acc: 0.7811 - val_loss: 1.9707 - val_acc: 0.5114\n",
      "Epoch 47/100\n",
      "50000/50000 [==============================] - 5s 104us/step - loss: 0.5748 - acc: 0.7933 - val_loss: 1.9944 - val_acc: 0.4999\n",
      "Epoch 48/100\n",
      "50000/50000 [==============================] - 5s 104us/step - loss: 0.5797 - acc: 0.7910 - val_loss: 1.9846 - val_acc: 0.4945\n",
      "Epoch 49/100\n",
      "50000/50000 [==============================] - 5s 104us/step - loss: 0.5486 - acc: 0.8009 - val_loss: 2.1013 - val_acc: 0.5019\n",
      "Epoch 50/100\n",
      "50000/50000 [==============================] - 5s 104us/step - loss: 0.5431 - acc: 0.8048 - val_loss: 2.1195 - val_acc: 0.4985\n",
      "Epoch 51/100\n",
      "50000/50000 [==============================] - 5s 104us/step - loss: 0.5344 - acc: 0.8085 - val_loss: 2.0901 - val_acc: 0.4932\n",
      "Epoch 52/100\n",
      "50000/50000 [==============================] - 5s 104us/step - loss: 0.5163 - acc: 0.8160 - val_loss: 2.2412 - val_acc: 0.4811\n",
      "Epoch 53/100\n",
      "50000/50000 [==============================] - 5s 104us/step - loss: 0.5133 - acc: 0.8151 - val_loss: 2.1826 - val_acc: 0.4973\n",
      "Epoch 54/100\n",
      "50000/50000 [==============================] - 5s 104us/step - loss: 0.4918 - acc: 0.8230 - val_loss: 2.2906 - val_acc: 0.4977\n",
      "Epoch 55/100\n",
      "50000/50000 [==============================] - 5s 104us/step - loss: 0.4860 - acc: 0.8264 - val_loss: 2.1707 - val_acc: 0.4985\n",
      "Epoch 56/100\n",
      "50000/50000 [==============================] - 5s 104us/step - loss: 0.4801 - acc: 0.8283 - val_loss: 2.3009 - val_acc: 0.4947\n",
      "Epoch 57/100\n",
      "50000/50000 [==============================] - 5s 105us/step - loss: 0.4609 - acc: 0.8353 - val_loss: 2.3162 - val_acc: 0.5013\n",
      "Epoch 58/100\n",
      "50000/50000 [==============================] - 5s 104us/step - loss: 0.4543 - acc: 0.8379 - val_loss: 2.3836 - val_acc: 0.4989\n",
      "Epoch 59/100\n",
      "50000/50000 [==============================] - 5s 104us/step - loss: 0.4320 - acc: 0.8452 - val_loss: 2.3894 - val_acc: 0.4918\n",
      "Epoch 60/100\n",
      "50000/50000 [==============================] - 5s 104us/step - loss: 0.4423 - acc: 0.8422 - val_loss: 2.2240 - val_acc: 0.4949\n",
      "Epoch 61/100\n",
      "50000/50000 [==============================] - 5s 104us/step - loss: 0.4201 - acc: 0.8497 - val_loss: 2.5345 - val_acc: 0.4916\n",
      "Epoch 62/100\n",
      "50000/50000 [==============================] - 5s 104us/step - loss: 0.4100 - acc: 0.8523 - val_loss: 2.5513 - val_acc: 0.4919\n",
      "Epoch 63/100\n",
      "50000/50000 [==============================] - 5s 104us/step - loss: 0.4113 - acc: 0.8537 - val_loss: 2.4663 - val_acc: 0.4899\n",
      "Epoch 64/100\n",
      "50000/50000 [==============================] - 5s 104us/step - loss: 0.4066 - acc: 0.8551 - val_loss: 2.6929 - val_acc: 0.4936\n",
      "Epoch 65/100\n",
      "50000/50000 [==============================] - 5s 104us/step - loss: 0.4005 - acc: 0.8575 - val_loss: 2.6555 - val_acc: 0.4903\n",
      "Epoch 66/100\n",
      "50000/50000 [==============================] - 5s 104us/step - loss: 0.3814 - acc: 0.8640 - val_loss: 2.7257 - val_acc: 0.4996\n",
      "Epoch 67/100\n",
      "50000/50000 [==============================] - 5s 104us/step - loss: 0.3530 - acc: 0.8731 - val_loss: 2.7634 - val_acc: 0.4947\n",
      "Epoch 68/100\n",
      "50000/50000 [==============================] - 5s 106us/step - loss: 0.3916 - acc: 0.8601 - val_loss: 2.4617 - val_acc: 0.4999\n",
      "Epoch 69/100\n",
      "50000/50000 [==============================] - 5s 107us/step - loss: 0.3405 - acc: 0.8793 - val_loss: 2.7643 - val_acc: 0.4964\n",
      "Epoch 70/100\n",
      "50000/50000 [==============================] - 5s 109us/step - loss: 0.3661 - acc: 0.8697 - val_loss: 2.6248 - val_acc: 0.4995\n",
      "Epoch 71/100\n",
      "50000/50000 [==============================] - 5s 108us/step - loss: 0.3323 - acc: 0.8833 - val_loss: 2.7995 - val_acc: 0.4912\n",
      "Epoch 72/100\n",
      "50000/50000 [==============================] - 7s 136us/step - loss: 0.3266 - acc: 0.8836 - val_loss: 2.8028 - val_acc: 0.4953\n",
      "Epoch 73/100\n",
      "50000/50000 [==============================] - 6s 120us/step - loss: 0.3376 - acc: 0.8796 - val_loss: 2.8547 - val_acc: 0.4914\n",
      "Epoch 74/100\n",
      "50000/50000 [==============================] - 6s 112us/step - loss: 0.3482 - acc: 0.8774 - val_loss: 2.7500 - val_acc: 0.4849\n",
      "Epoch 75/100\n",
      "50000/50000 [==============================] - 5s 109us/step - loss: 0.3100 - acc: 0.8907 - val_loss: 2.9649 - val_acc: 0.4894\n",
      "Epoch 76/100\n",
      "50000/50000 [==============================] - 5s 108us/step - loss: 0.3125 - acc: 0.8891 - val_loss: 2.9003 - val_acc: 0.4798\n",
      "Epoch 77/100\n",
      "50000/50000 [==============================] - 5s 108us/step - loss: 0.3140 - acc: 0.8874 - val_loss: 2.6282 - val_acc: 0.4906\n",
      "Epoch 78/100\n",
      "50000/50000 [==============================] - 5s 108us/step - loss: 0.2951 - acc: 0.8968 - val_loss: 2.7351 - val_acc: 0.4905\n",
      "Epoch 79/100\n",
      "50000/50000 [==============================] - 5s 106us/step - loss: 0.3066 - acc: 0.8921 - val_loss: 2.7811 - val_acc: 0.4920\n",
      "Epoch 80/100\n",
      "50000/50000 [==============================] - 5s 107us/step - loss: 0.3172 - acc: 0.8876 - val_loss: 2.8033 - val_acc: 0.4902\n",
      "Epoch 81/100\n",
      "50000/50000 [==============================] - 5s 106us/step - loss: 0.2726 - acc: 0.9034 - val_loss: 2.9774 - val_acc: 0.4871\n",
      "Epoch 82/100\n",
      "50000/50000 [==============================] - 5s 105us/step - loss: 0.3293 - acc: 0.8833 - val_loss: 2.9264 - val_acc: 0.5017\n",
      "Epoch 83/100\n",
      "50000/50000 [==============================] - 5s 105us/step - loss: 0.3046 - acc: 0.8933 - val_loss: 2.9402 - val_acc: 0.4915\n",
      "Epoch 84/100\n",
      "50000/50000 [==============================] - 5s 106us/step - loss: 0.2686 - acc: 0.9052 - val_loss: 2.8615 - val_acc: 0.4928\n",
      "Epoch 85/100\n",
      "50000/50000 [==============================] - 5s 105us/step - loss: 0.2650 - acc: 0.9062 - val_loss: 2.9855 - val_acc: 0.4892\n",
      "Epoch 86/100\n",
      "50000/50000 [==============================] - 5s 105us/step - loss: 0.2896 - acc: 0.8995 - val_loss: 2.8528 - val_acc: 0.4988\n",
      "Epoch 87/100\n",
      "50000/50000 [==============================] - 5s 106us/step - loss: 0.2686 - acc: 0.9046 - val_loss: 3.0247 - val_acc: 0.4781\n",
      "Epoch 88/100\n",
      "50000/50000 [==============================] - 5s 105us/step - loss: 0.2781 - acc: 0.9027 - val_loss: 2.8458 - val_acc: 0.4869\n",
      "Epoch 89/100\n",
      "50000/50000 [==============================] - 5s 106us/step - loss: 0.2652 - acc: 0.9066 - val_loss: 3.1969 - val_acc: 0.4904\n",
      "Epoch 90/100\n",
      "50000/50000 [==============================] - 5s 106us/step - loss: 0.2599 - acc: 0.9071 - val_loss: 3.0675 - val_acc: 0.4871\n",
      "Epoch 91/100\n",
      "50000/50000 [==============================] - 5s 105us/step - loss: 0.2520 - acc: 0.9121 - val_loss: 3.0258 - val_acc: 0.4911\n",
      "Epoch 92/100\n",
      "50000/50000 [==============================] - 5s 105us/step - loss: 0.2684 - acc: 0.9042 - val_loss: 2.8477 - val_acc: 0.4864\n",
      "Epoch 93/100\n",
      "50000/50000 [==============================] - 5s 106us/step - loss: 0.2510 - acc: 0.9114 - val_loss: 2.9269 - val_acc: 0.4890\n",
      "Epoch 94/100\n",
      "50000/50000 [==============================] - 5s 105us/step - loss: 0.2468 - acc: 0.9137 - val_loss: 3.0046 - val_acc: 0.4897\n",
      "Epoch 95/100\n",
      "50000/50000 [==============================] - 5s 105us/step - loss: 0.2612 - acc: 0.9086 - val_loss: 3.0397 - val_acc: 0.4940\n",
      "Epoch 96/100\n",
      "50000/50000 [==============================] - 5s 106us/step - loss: 0.2368 - acc: 0.9165 - val_loss: 3.0365 - val_acc: 0.4882\n",
      "Epoch 97/100\n",
      "50000/50000 [==============================] - 5s 105us/step - loss: 0.2287 - acc: 0.9206 - val_loss: 2.9982 - val_acc: 0.4931\n",
      "Epoch 98/100\n",
      "50000/50000 [==============================] - 5s 105us/step - loss: 0.2553 - acc: 0.9124 - val_loss: 2.9607 - val_acc: 0.4940\n",
      "Epoch 99/100\n",
      "50000/50000 [==============================] - 5s 106us/step - loss: 0.2399 - acc: 0.9155 - val_loss: 2.9597 - val_acc: 0.4920\n",
      "Epoch 100/100\n",
      "50000/50000 [==============================] - 5s 106us/step - loss: 0.2141 - acc: 0.9259 - val_loss: 3.1313 - val_acc: 0.4958\n"
     ]
    },
    {
     "data": {
      "text/plain": [
       "<keras.callbacks.History at 0x1953ac1e6a0>"
      ]
     },
     "execution_count": 15,
     "metadata": {},
     "output_type": "execute_result"
    }
   ],
   "source": [
    "model.fit(x_train, y_train, \n",
    "          epochs=EPOCHS, \n",
    "          batch_size=BATCH_SIZE, \n",
    "          validation_data=(x_test, y_test), \n",
    "          shuffle=True)"
   ]
  },
  {
   "cell_type": "code",
   "execution_count": 16,
   "metadata": {},
   "outputs": [
    {
     "data": {
      "image/png": "[encoded data removed]",
      "text/plain": [
       "<Figure size 432x288 with 1 Axes>"
      ]
     },
     "metadata": {
      "needs_background": "light"
     },
     "output_type": "display_data"
    },
    {
     "data": {
      "image/png": "[encoded data removed]",
      "text/plain": [
       "<Figure size 432x288 with 1 Axes>"
      ]
     },
     "metadata": {
      "needs_background": "light"
     },
     "output_type": "display_data"
    }
   ],
   "source": [
    "import matplotlib.pyplot as plt\n",
    "\n",
    "\n",
    "train_loss = model.history.history[\"loss\"]\n",
    "valid_loss = model.history.history[\"val_loss\"]\n",
    "\n",
    "train_acc = model.history.history[\"acc\"]\n",
    "valid_acc = model.history.history[\"val_acc\"]\n",
    "\n",
    "plt.plot(range(len(train_loss)), train_loss, label=\"train loss\")\n",
    "plt.plot(range(len(valid_loss)), valid_loss, label=\"valid loss\")\n",
    "plt.legend()\n",
    "plt.title(\"Loss\")\n",
    "plt.show()\n",
    "\n",
    "plt.plot(range(len(train_acc)), train_acc, label=\"train accuracy\")\n",
    "plt.plot(range(len(valid_acc)), valid_acc, label=\"valid accuracy\")\n",
    "plt.legend()\n",
    "plt.title(\"Accuracy\")\n",
    "plt.show()"
   ]
  },
  {
   "cell_type": "code",
   "execution_count": null,
   "metadata": {},
   "outputs": [],
   "source": []
  }
 ],
 "metadata": {
  "kernelspec": {
   "display_name": "Python 3",
   "language": "python",
   "name": "python3"
  },
  "language_info": {
   "codemirror_mode": {
    "name": "ipython",
    "version": 3
   },
   "file_extension": ".py",
   "mimetype": "text/x-python",
   "name": "python",
   "nbconvert_exporter": "python",
   "pygments_lexer": "ipython3",
   "version": "3.7.3"
  }
 },
 "nbformat": 4,
 "nbformat_minor": 2
}
